{
 "cells": [
  {
   "cell_type": "code",
   "execution_count": 1,
   "metadata": {},
   "outputs": [],
   "source": [
    "from cimgraph.databases import ConnectionInterface, ConnectionParameters, Parameter, QueryResponse\n",
    "from cimtranslator.databases.uploaders.neo4j import Neo4jUploader"
   ]
  },
  {
   "cell_type": "code",
   "execution_count": 2,
   "metadata": {},
   "outputs": [],
   "source": [
    "# Neo4J Connection\n",
    "params = ConnectionParameters(url = \"neo4j://localhost:7687\", database=\"neo4j\", cim_profile='rc4_2021', namespace=\"http://iec.ch/TC57/CIM100#\") #, username=\"neo4j\", password=\"neo4j\")\n",
    "neo4j = Neo4jUploader(params)"
   ]
  },
  {
   "cell_type": "code",
   "execution_count": 3,
   "metadata": {},
   "outputs": [],
   "source": [
    "neo4j.connect()\n"
   ]
  },
  {
   "cell_type": "code",
   "execution_count": 4,
   "metadata": {},
   "outputs": [
    {
     "name": "stderr",
     "output_type": "stream",
     "text": [
      "CREATE CONSTRAINT n10s_unique_uri FOR (r:Resource) REQUIRE r.uri IS UNIQUE; raised an error: \n",
      "{code: Neo.ClientError.Schema.ConstraintAlreadyExists} {message: Constraint already exists: Constraint( id=4, name='resource', type='UNIQUENESS', schema=(:Resource {uri}), ownedIndex=3 )}\n"
     ]
    }
   ],
   "source": [
    "neo4j.configure()"
   ]
  },
  {
   "cell_type": "code",
   "execution_count": 5,
   "metadata": {},
   "outputs": [
    {
     "data": {
      "text/plain": [
       "([<Record terminationStatus='OK' triplesLoaded=446444 triplesParsed=446444 namespaces=None extraInfo='' callParams={'singleTx': False}>],\n",
       " <neo4j._work.summary.ResultSummary at 0x7f077c093d90>,\n",
       " ['terminationStatus',\n",
       "  'triplesLoaded',\n",
       "  'triplesParsed',\n",
       "  'namespaces',\n",
       "  'extraInfo',\n",
       "  'callParams'])"
      ]
     },
     "execution_count": 5,
     "metadata": {},
     "output_type": "execute_result"
    }
   ],
   "source": [
    "neo4j.upload(filepath=\"/import\", filename=\"IEEE9500bal.xml\", format=\"RDF/XML\")"
   ]
  },
  {
   "cell_type": "code",
   "execution_count": 6,
   "metadata": {},
   "outputs": [
    {
     "data": {
      "text/plain": [
       "([<Record terminationStatus='OK' triplesLoaded=3392 triplesParsed=3392 namespaces=None extraInfo='' callParams={'singleTx': False}>],\n",
       " <neo4j._work.summary.ResultSummary at 0x7f0740bce920>,\n",
       " ['terminationStatus',\n",
       "  'triplesLoaded',\n",
       "  'triplesParsed',\n",
       "  'namespaces',\n",
       "  'extraInfo',\n",
       "  'callParams'])"
      ]
     },
     "execution_count": 6,
     "metadata": {},
     "output_type": "execute_result"
    }
   ],
   "source": [
    "\n",
    "neo4j.execute(\"\"\"call n10s.rdf.import.fetch(\"file:///import/IEEE13.xml\", \"RDF/XML\"); \"\"\")"
   ]
  },
  {
   "cell_type": "code",
   "execution_count": 7,
   "metadata": {},
   "outputs": [
    {
     "data": {
      "text/plain": [
       "([<Record terminationStatus='OK' triplesLoaded=2927 triplesParsed=2927 namespaces=None extraInfo='' callParams={'singleTx': False}>],\n",
       " <neo4j._work.summary.ResultSummary at 0x7f0740b7e5c0>,\n",
       " ['terminationStatus',\n",
       "  'triplesLoaded',\n",
       "  'triplesParsed',\n",
       "  'namespaces',\n",
       "  'extraInfo',\n",
       "  'callParams'])"
      ]
     },
     "execution_count": 7,
     "metadata": {},
     "output_type": "execute_result"
    }
   ],
   "source": [
    "neo4j.execute(\"\"\"call n10s.rdf.import.fetch(\"https://raw.githubusercontent.com/GRIDAPPSD/Powergrid-Models/feature/SETO/platform/cimxml/IEEE13_Assets.xml\", \"RDF/XML\") \"\"\")\n"
   ]
  }
 ],
 "metadata": {
  "kernelspec": {
   "display_name": "Python 3",
   "language": "python",
   "name": "python3"
  },
  "language_info": {
   "codemirror_mode": {
    "name": "ipython",
    "version": 3
   },
   "file_extension": ".py",
   "mimetype": "text/x-python",
   "name": "python",
   "nbconvert_exporter": "python",
   "pygments_lexer": "ipython3",
   "version": "3.10.12"
  },
  "orig_nbformat": 4
 },
 "nbformat": 4,
 "nbformat_minor": 2
}
