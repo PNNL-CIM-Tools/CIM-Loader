{
 "cells": [
  {
   "cell_type": "code",
   "execution_count": 8,
   "metadata": {},
   "outputs": [],
   "source": [
    "from cimloader.databases import ConnectionInterface, ConnectionParameters, Parameter, QueryResponse\n",
    "from cimloader.databases.neo4j import Neo4j\n",
    "# import opendssdirect as dss\n",
    "import io\n",
    "import zipfile\n",
    "import os\n",
    "import requests"
   ]
  },
  {
   "cell_type": "code",
   "execution_count": 9,
   "metadata": {},
   "outputs": [],
   "source": [
    "# Neo4J Connection\n",
    "params = ConnectionParameters(url = \"neo4j://localhost:7687\", database=\"neo4j\", username=\"neo4j\", password=\"test1234\", cim_profile='rc4_2021', namespace=\"http://iec.ch/TC57/CIM100#\") #, username=\"neo4j\", password=\"neo4j\")\n",
    "neo4j = Neo4j(params)"
   ]
  },
  {
   "cell_type": "code",
   "execution_count": 10,
   "metadata": {},
   "outputs": [],
   "source": [
    "neo4j.connect()\n"
   ]
  },
  {
   "cell_type": "code",
   "execution_count": 11,
   "metadata": {},
   "outputs": [
    {
     "name": "stderr",
     "output_type": "stream",
     "text": [
      "CREATE CONSTRAINT n10s_unique_uri FOR (r:Resource) REQUIRE r.uri IS UNIQUE; raised an error: \n",
      "{code: Neo.ClientError.Schema.EquivalentSchemaRuleAlreadyExists} {message: An equivalent constraint already exists, 'Constraint( id=4, name='n10s_unique_uri', type='UNIQUENESS', schema=(:Resource {uri}), ownedIndex=3 )'.}\n"
     ]
    }
   ],
   "source": [
    "neo4j.configure()"
   ]
  },
  {
   "cell_type": "code",
   "execution_count": null,
   "metadata": {},
   "outputs": [],
   "source": [
    "# neo4j.upload(filepath=\"/import\", filename=\"IEEE9500bal.xml\", format=\"RDF/XML\")"
   ]
  },
  {
   "cell_type": "code",
   "execution_count": null,
   "metadata": {},
   "outputs": [],
   "source": [
    "\n",
    "# neo4j.execute(\"\"\"call n10s.rdf.import.fetch(\"file:///import/IEEE13.xml\", \"RDF/XML\"); \"\"\")"
   ]
  },
  {
   "cell_type": "code",
   "execution_count": 12,
   "metadata": {},
   "outputs": [
    {
     "data": {
      "text/plain": [
       "([<Record terminationStatus='OK' triplesLoaded=446444 triplesParsed=446444 namespaces=None extraInfo='' callParams={'singleTx': False}>],\n",
       " <neo4j._work.summary.ResultSummary at 0x7f006597fca0>,\n",
       " ['terminationStatus',\n",
       "  'triplesLoaded',\n",
       "  'triplesParsed',\n",
       "  'namespaces',\n",
       "  'extraInfo',\n",
       "  'callParams'])"
      ]
     },
     "execution_count": 12,
     "metadata": {},
     "output_type": "execute_result"
    }
   ],
   "source": [
    "neo4j.execute(\"\"\"call n10s.rdf.import.fetch(\"https://raw.githubusercontent.com/GRIDAPPSD/Powergrid-Models/feature/SETO/platform/cimxml/IEEE9500bal.xml\", \"RDF/XML\") \"\"\")\n"
   ]
  },
  {
   "cell_type": "code",
   "execution_count": null,
   "metadata": {},
   "outputs": [],
   "source": [
    "import uuid\n",
    "print(str(uuid.uuid4()))\n",
    "print(str(uuid.uuid4()))\n",
    "print(str(uuid.uuid4()))"
   ]
  },
  {
   "cell_type": "code",
   "execution_count": null,
   "metadata": {},
   "outputs": [],
   "source": [
    "len(case_uuid_list)"
   ]
  },
  {
   "cell_type": "code",
   "execution_count": null,
   "metadata": {},
   "outputs": [],
   "source": [
    "case_uuid_names[\"accdf54c-c90c-4c41-9d7a-5e5d3d17a4e5\"]"
   ]
  },
  {
   "cell_type": "code",
   "execution_count": null,
   "metadata": {},
   "outputs": [],
   "source": [
    "# for case_uuid in case_uuid_list:\n",
    "case_uuid = \"accdf54c-c90c-4c41-9d7a-5e5d3d17a4e5\"\n",
    "casefile_url = naerm_url + \"/uuid/\" + case_uuid\n",
    "case_info = requests.get(casefile_url).json()\n",
    "file_url = case_info[\"file_url\"]\n",
    "file_path = \"../naerm/\" + case_uuid"
   ]
  },
  {
   "cell_type": "code",
   "execution_count": null,
   "metadata": {},
   "outputs": [],
   "source": [
    "case_info"
   ]
  },
  {
   "cell_type": "code",
   "execution_count": null,
   "metadata": {},
   "outputs": [],
   "source": [
    "file_path"
   ]
  },
  {
   "cell_type": "code",
   "execution_count": null,
   "metadata": {},
   "outputs": [],
   "source": [
    "r = requests.get(file_url)\n",
    "z = zipfile.ZipFile(io.BytesIO(r.content))\n",
    "z.extractall(file_path)"
   ]
  },
  {
   "cell_type": "code",
   "execution_count": null,
   "metadata": {},
   "outputs": [],
   "source": [
    "# Load IEEE 13 Node OpenDSS Sample Case\n",
    "dss.run_command(f\"Redirect {file_path}/Master.dss\")\n",
    "dss.run_command(f\"Redirect {file_path}/Master.dss\")\n",
    "dss.Solution.Solve()"
   ]
  },
  {
   "cell_type": "code",
   "execution_count": null,
   "metadata": {},
   "outputs": [],
   "source": [
    "dss.run_command(f'export cim100 fid={case_uuid} substation={case_uuid_names[case_uuid]} subgeo=SFO geo=SFO file=Master.xml')"
   ]
  },
  {
   "cell_type": "code",
   "execution_count": null,
   "metadata": {},
   "outputs": [],
   "source": [
    "os.rename(\"Master.xml\", f\"{file_path}/Master.xml\")"
   ]
  },
  {
   "cell_type": "code",
   "execution_count": null,
   "metadata": {},
   "outputs": [],
   "source": [
    "for dirpath, subdirs, files in os.walk(file_path):\n",
    "    for filename in files:\n",
    "        if filename == \"Master.dss\":\n",
    "            print(dirpath)\n",
    "            print(os.path.join(dirpath, x))"
   ]
  },
  {
   "cell_type": "code",
   "execution_count": null,
   "metadata": {},
   "outputs": [],
   "source": []
  }
 ],
 "metadata": {
  "kernelspec": {
   "display_name": ".venv",
   "language": "python",
   "name": "python3"
  },
  "language_info": {
   "codemirror_mode": {
    "name": "ipython",
    "version": 3
   },
   "file_extension": ".py",
   "mimetype": "text/x-python",
   "name": "python",
   "nbconvert_exporter": "python",
   "pygments_lexer": "ipython3",
   "version": "3.10.12"
  }
 },
 "nbformat": 4,
 "nbformat_minor": 4
}
